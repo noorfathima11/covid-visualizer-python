{
 "cells": [
  {
   "cell_type": "code",
   "execution_count": 2,
   "metadata": {},
   "outputs": [],
   "source": [
    "import geopandas\n",
    "import geoplot\n",
    "import requests\n",
    "import pandas as pd\n",
    "import json\n",
    "import sqlite3\n",
    "from django.db.models import Model\n",
    " \n",
    "stateDataResponse = requests.get('https://api.covid19india.org/state_district_wise.json')\n",
    "stateData = stateDataResponse.json()\n",
    "with open('stateData.json', 'w') as f:\n",
    "    json.dump(stateData, f)\n",
    "\n",
    "indiaCovidDataResponse = requests.get('https://api.covid19india.org/v4/data.json')\n",
    "indiaCovidData = indiaCovidDataResponse.json()\n",
    "with open('indiaCovidData.json', 'w') as f:\n",
    "    json.dump(indiaCovidData, f)\n",
    "\n",
    "#india = geopandas.read_file('india-all-states.geo.json')\n",
    "\n",
    "state_id_map = {}\n",
    "india_states = json.load(open(\"india-all-states.geo.json\"))\n",
    "#print(india_states['features'][1])\n",
    "\n",
    "for feature in india_states['features']:\n",
    "    feature['id'] = feature['properties']['ID_1']\n",
    "    state_id_map[feature['properties']['NAME_1']] = feature['id']\n",
    "\n"
   ]
  },
  {
   "cell_type": "code",
   "execution_count": null,
   "metadata": {},
   "outputs": [],
   "source": []
  }
 ],
 "metadata": {
  "kernelspec": {
   "display_name": "Python 3",
   "language": "python",
   "name": "python3"
  },
  "language_info": {
   "codemirror_mode": {
    "name": "ipython",
    "version": 3
   },
   "file_extension": ".py",
   "mimetype": "text/x-python",
   "name": "python",
   "nbconvert_exporter": "python",
   "pygments_lexer": "ipython3",
   "version": "3.7.7"
  }
 },
 "nbformat": 4,
 "nbformat_minor": 4
}
